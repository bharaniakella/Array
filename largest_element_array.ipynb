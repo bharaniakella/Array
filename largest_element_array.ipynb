{
  "nbformat": 4,
  "nbformat_minor": 0,
  "metadata": {
    "colab": {
      "provenance": [],
      "authorship_tag": "ABX9TyN8nYFk51AuqN45M5klOPwz",
      "include_colab_link": true
    },
    "kernelspec": {
      "name": "python3",
      "display_name": "Python 3"
    },
    "language_info": {
      "name": "python"
    }
  },
  "cells": [
    {
      "cell_type": "markdown",
      "metadata": {
        "id": "view-in-github",
        "colab_type": "text"
      },
      "source": [
        "<a href=\"https://colab.research.google.com/github/bharaniakella/Array/blob/master/largest_element_array.ipynb\" target=\"_parent\"><img src=\"https://colab.research.google.com/assets/colab-badge.svg\" alt=\"Open In Colab\"/></a>"
      ]
    },
    {
      "cell_type": "code",
      "execution_count": 1,
      "metadata": {
        "id": "eUOa4QkW48pH"
      },
      "outputs": [],
      "source": [
        "import numpy as np\n",
        "\n",
        "arr=np.array([4,1,8,5,6,7])"
      ]
    },
    {
      "cell_type": "code",
      "source": [
        "def largest_element_arr(arr):\n",
        "  max=0\n",
        "  for i in range(1,len(arr)):\n",
        "    if(arr[i]>arr[max]):\n",
        "      max=i\n",
        "  return arr[max]"
      ],
      "metadata": {
        "id": "sGVDz_2b7nIZ"
      },
      "execution_count": 4,
      "outputs": []
    },
    {
      "cell_type": "code",
      "source": [
        "largest_element_arr(arr)"
      ],
      "metadata": {
        "colab": {
          "base_uri": "https://localhost:8080/"
        },
        "id": "APsGW3hx8Csf",
        "outputId": "9b5d909f-f9c6-49a5-940c-5bf8c210eedf"
      },
      "execution_count": 5,
      "outputs": [
        {
          "output_type": "execute_result",
          "data": {
            "text/plain": [
              "8"
            ]
          },
          "metadata": {},
          "execution_count": 5
        }
      ]
    },
    {
      "cell_type": "code",
      "source": [],
      "metadata": {
        "id": "2boW8CYK8FCO"
      },
      "execution_count": null,
      "outputs": []
    }
  ]
}